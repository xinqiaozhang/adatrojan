{
 "cells": [
  {
   "cell_type": "code",
   "execution_count": 2,
   "metadata": {},
   "outputs": [],
   "source": [
    "import logging\n",
    "import os\n",
    "import json\n",
    "import jsonpickle\n",
    "import pickle\n",
    "import numpy as np\n",
    "from sklearn.ensemble import RandomForestRegressor, RandomForestClassifier\n",
    "from sklearn.feature_selection import RFECV\n",
    "import utils.models\n",
    "from utils.abstract import AbstractDetector\n",
    "from utils.models import load_model, load_ground_truth, wrap_network_prediction\n",
    "import torch\n",
    "import torchvision\n",
    "import skimage.io\n",
    "from sklearn.metrics import accuracy_score, roc_auc_score, roc_curve, auc\n",
    "from sklearn.model_selection import train_test_split\n",
    "import matplotlib.pyplot as plt\n",
    "from sklearn.model_selection import cross_val_score, ShuffleSplit\n",
    "from sklearn import svm\n",
    "from sklearn.calibration import CalibratedClassifierCV\n",
    "from tqdm import tqdm\n",
    "from collections import defaultdict\n",
    "from multiprocessing import Process, Queue\n",
    "os.environ['CUDA_VISIBLE_DEVICES'] = '0'\n",
    "# perform standard scaling\n",
    "from sklearn.preprocessing import StandardScaler\n",
    "scaler = StandardScaler()\n",
    "r13_data = '/data/xinqiao/round13/data/'"
   ]
  },
  {
   "cell_type": "code",
   "execution_count": 3,
   "metadata": {},
   "outputs": [],
   "source": [
    "def cross_val_report(X, y, scoring='roc_auc'):\n",
    "    cv = ShuffleSplit(n_splits=5, test_size=0.2, random_state=0)\n",
    "    SVM_model = svm.SVC(kernel='linear', C=1, random_state=42)\n",
    "    scores = cross_val_score(SVM_model, X, y, cv=cv, scoring=scoring)\n",
    "    print(\"SVM: %0.2f accuracy with a standard deviation of %0.2f\" % (scores.mean(), scores.std()))\n",
    "\n",
    "    cv = ShuffleSplit(n_splits=5, test_size=0.2, random_state=0)\n",
    "    RF_model = RandomForestClassifier(max_depth=5, n_estimators=200)\n",
    "    scores = cross_val_score(RF_model, X, y, cv=cv, scoring=scoring)\n",
    "    print(\"RF: %0.2f accuracy with a standard deviation of %0.2f\" % (scores.mean(), scores.std()))"
   ]
  },
  {
   "cell_type": "code",
   "execution_count": 4,
   "metadata": {},
   "outputs": [],
   "source": [
    "def svd_in_dim(weight, dim):\n",
    "    u, s, v = torch.svd(weight.reshape(weight.shape[dim], -1), compute_uv=False)\n",
    "    return s"
   ]
  },
  {
   "cell_type": "code",
   "execution_count": 5,
   "metadata": {},
   "outputs": [],
   "source": [
    "def get_features(model):\n",
    "    svd_list = []\n",
    "    for name, param in model.named_parameters():\n",
    "        weight = param.data\n",
    "        numdims = len(weight.shape)\n",
    "        if numdims > 1:\n",
    "            if numdims > 3:\n",
    "                for mydim in range(numdims - 2):\n",
    "                    s = svd_in_dim(weight,mydim).detach().cpu().numpy()\n",
    "                    svd_list.extend([s[0],s[1],s[2]])\n",
    "            else:\n",
    "                s = svd_in_dim(weight,0).detach().cpu().numpy()\n",
    "                svd_list.extend([s[0],s[1],s[2]])\n",
    "    \n",
    "    return np.asarray(svd_list)"
   ]
  },
  {
   "cell_type": "code",
   "execution_count": 6,
   "metadata": {},
   "outputs": [],
   "source": [
    "def load_models_dirpath(models_dirpath, training):\n",
    "    X = defaultdict(list)\n",
    "    Y = defaultdict(list)\n",
    "\n",
    "    for model_path in tqdm(models_dirpath):\n",
    "        model, model_repr, model_class = load_model(os.path.join(model_path, \"model.pt\"))\n",
    "        model_ground_truth = load_ground_truth(model_path)\n",
    "\n",
    "        feats = get_features(model)\n",
    "        X[model_class].append(feats)\n",
    "        if training:\n",
    "            Y[model_class].append(model_ground_truth)\n",
    "\n",
    "    return X, Y if training else X"
   ]
  },
  {
   "cell_type": "code",
   "execution_count": 6,
   "metadata": {},
   "outputs": [
    {
     "name": "stderr",
     "output_type": "stream",
     "text": [
      "  1%|          | 1/128 [00:04<09:45,  4.61s/it]/home/shivam/miniconda3/envs/round13/lib/python3.10/site-packages/tqdm/auto.py:21: TqdmWarning: IProgress not found. Please update jupyter and ipywidgets. See https://ipywidgets.readthedocs.io/en/stable/user_install.html\n",
      "  from .autonotebook import tqdm as notebook_tqdm\n",
      "100%|██████████| 128/128 [12:15<00:00,  5.75s/it]\n"
     ]
    }
   ],
   "source": [
    "model_path_list = sorted([os.path.join(r13_data, model) for model in os.listdir(r13_data)])\n",
    "X, Y = load_models_dirpath(model_path_list, training=True)"
   ]
  },
  {
   "cell_type": "code",
   "execution_count": 7,
   "metadata": {},
   "outputs": [],
   "source": [
    "# save the features\n",
    "# with open('X.pkl', 'wb') as f:\n",
    "#     pickle.dump(X, f)\n",
    "# with open('Y.pkl', 'wb') as f:\n",
    "#     pickle.dump(Y, f)\n",
    "\n",
    "# load the features\n",
    "with open('X.pkl', 'rb') as f:\n",
    "    X = pickle.load(f)\n",
    "with open('Y.pkl', 'rb') as f:\n",
    "    Y = pickle.load(f)"
   ]
  },
  {
   "cell_type": "code",
   "execution_count": 8,
   "metadata": {},
   "outputs": [
    {
     "name": "stdout",
     "output_type": "stream",
     "text": [
      "Optimal number of features : 105\n",
      "SSD\n",
      "SVM: 0.66 accuracy with a standard deviation of 0.10\n",
      "RF: 0.52 accuracy with a standard deviation of 0.12\n",
      "0.8958333333333334\n",
      "Optimal number of features : 23\n",
      "DetrForObjectDetection\n",
      "SVM: 0.97 accuracy with a standard deviation of 0.06\n",
      "RF: 0.57 accuracy with a standard deviation of 0.13\n",
      "1.0\n",
      "Optimal number of features : 140\n",
      "FasterRCNN\n",
      "SVM: 0.70 accuracy with a standard deviation of 0.20\n",
      "RF: 0.80 accuracy with a standard deviation of 0.13\n",
      "0.7708333333333334\n"
     ]
    }
   ],
   "source": [
    "for model_class in X.keys():\n",
    "    X[model_class] = np.asarray(X[model_class])\n",
    "    Y[model_class] = np.asarray(Y[model_class])\n",
    "    \n",
    "    # standard scaling\n",
    "    X[model_class] = scaler.fit_transform(X[model_class])\n",
    "\n",
    "    clf = svm.SVC(kernel='linear', C=1, random_state=42)\n",
    "    rfecv = RFECV(estimator=clf, step=1, cv=5, scoring='roc_auc', min_features_to_select=10)\n",
    "    rfecv.fit(X[model_class], Y[model_class])\n",
    "\n",
    "    ## Get cv scores\n",
    "    print(\"Optimal number of features : %d\" % rfecv.n_features_)\n",
    "    print(model_class)\n",
    "    cross_val_report(X[model_class][:, rfecv.support_], Y[model_class], scoring='accuracy')\n",
    "    \n",
    "    newfeats = X[model_class][:, rfecv.support_]\n",
    "\n",
    "    ## Fit model\n",
    "    clf = svm.SVC(kernel='linear', C=1, random_state=42, probability=True)\n",
    "    clf.fit(newfeats, Y[model_class])\n",
    "    calibrator = CalibratedClassifierCV(clf, method='sigmoid', cv='prefit')\n",
    "    calibrator.fit(newfeats, Y[model_class])\n",
    "    print(calibrator.score(newfeats, Y[model_class]))\n",
    "\n",
    "    # save model, scaler, rfecv\n",
    "    with open('learned_parameters/model_{}.pkl'.format(model_class), 'wb') as f:\n",
    "        pickle.dump(calibrator, f)\n",
    "    with open('learned_parameters/scaler_{}.pkl'.format(model_class), 'wb') as f:\n",
    "        pickle.dump(scaler, f)\n",
    "    with open('learned_parameters/rfecv_{}.pkl'.format(model_class), 'wb') as f:\n",
    "        pickle.dump(rfecv, f)\n"
   ]
  },
  {
   "cell_type": "code",
   "execution_count": 9,
   "metadata": {},
   "outputs": [],
   "source": [
    "# load scaler, rfecv, model\n",
    "with open('learned_parameters/scaler_{}.pkl'.format('FasterRCNN'), 'rb') as f:\n",
    "    scaler = pickle.load(f)\n",
    "\n",
    "with open('learned_parameters/rfecv_{}.pkl'.format('FasterRCNN'), 'rb') as f:\n",
    "    rfecv = pickle.load(f)\n",
    "\n",
    "with open('learned_parameters/model_{}.pkl'.format('FasterRCNN'), 'rb') as f:\n",
    "    model = pickle.load(f)"
   ]
  },
  {
   "cell_type": "code",
   "execution_count": 15,
   "metadata": {},
   "outputs": [
    {
     "data": {
      "text/plain": [
       "0.16767491590067574"
      ]
     },
     "execution_count": 15,
     "metadata": {},
     "output_type": "execute_result"
    }
   ],
   "source": [
    "model.predict_proba([newfeats[0]])[0][1]"
   ]
  },
  {
   "cell_type": "code",
   "execution_count": null,
   "metadata": {},
   "outputs": [],
   "source": []
  }
 ],
 "metadata": {
  "kernelspec": {
   "display_name": "round13",
   "language": "python",
   "name": "python3"
  },
  "language_info": {
   "codemirror_mode": {
    "name": "ipython",
    "version": 3
   },
   "file_extension": ".py",
   "mimetype": "text/x-python",
   "name": "python",
   "nbconvert_exporter": "python",
   "pygments_lexer": "ipython3",
   "version": "3.10.11"
  },
  "orig_nbformat": 4
 },
 "nbformat": 4,
 "nbformat_minor": 2
}
